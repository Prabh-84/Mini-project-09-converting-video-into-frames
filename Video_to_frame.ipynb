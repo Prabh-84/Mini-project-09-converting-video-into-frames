{
  "cells": [
    {
      "cell_type": "markdown",
      "metadata": {
        "id": "view-in-github",
        "colab_type": "text"
      },
      "source": [
        "<a href=\"https://colab.research.google.com/github/Prabh-84/Mini-project-09-converting-video-into-frames/blob/main/Video_to_frame.ipynb\" target=\"_parent\"><img src=\"https://colab.research.google.com/assets/colab-badge.svg\" alt=\"Open In Colab\"/></a>"
      ]
    },
    {
      "cell_type": "code",
      "execution_count": 3,
      "metadata": {
        "colab": {
          "base_uri": "https://localhost:8080/"
        },
        "id": "zkaAqoq1bcaN",
        "outputId": "166288e3-0ffb-42cd-e0e1-ed35f66b7f24"
      },
      "outputs": [
        {
          "output_type": "stream",
          "name": "stdout",
          "text": [
            "Frames extracted: 130\n"
          ]
        }
      ],
      "source": [
        "import cv2\n",
        "import os\n",
        "import shutil\n",
        "\n",
        "def FrameCapture(path, output_folder):\n",
        "    # Ensure the output directory exists, create if it does not\n",
        "    if not os.path.exists(output_folder):\n",
        "        os.makedirs(output_folder)\n",
        "\n",
        "    # Path to video file\n",
        "    vidObj = cv2.VideoCapture(path)\n",
        "\n",
        "    # Figure out how many zeros we need to pad.\n",
        "    # This depends on the total number of frames in the video.\n",
        "    total_frames = int(vidObj.get(cv2.CAP_PROP_FRAME_COUNT))\n",
        "    num_digits = len(str(total_frames))\n",
        "\n",
        "    # Used as counter variable\n",
        "    count = 0\n",
        "\n",
        "    # Success flag to check if the frame has been successfully captured\n",
        "    success, image = vidObj.read()\n",
        "\n",
        "    while success:\n",
        "        # Construct filename with the output folder, padding the frame number with zeros\n",
        "        filename = os.path.join(output_folder, f\"frame{str(count).zfill(num_digits)}.jpg\")\n",
        "\n",
        "        # Saves the frames with frame-count\n",
        "        cv2.imwrite(filename, image)\n",
        "\n",
        "        # Increment the counter\n",
        "        count += 1\n",
        "\n",
        "        # Read the next frame from the video\n",
        "        success, image = vidObj.read()\n",
        "\n",
        "    # When everything is done, release the video capture object\n",
        "    vidObj.release()\n",
        "    print(f\"Frames extracted: {count}\")\n",
        "\n",
        "    # After capturing and saving the frames, zip the folder\n",
        "    shutil.make_archive(output_folder, 'zip', output_folder)\n",
        "\n",
        "# Driver Code\n",
        "if __name__ == '__main__':\n",
        "    # Specify the output folder\n",
        "    output_folder = \"extracted_frames\"\n",
        "    # Calling the function with an additional argument for the output folder\n",
        "    FrameCapture(\"/content/5532772-uhd_4096_2160_25fps (1).mp4\", output_folder)\n",
        "\n"
      ]
    }
  ],
  "metadata": {
    "colab": {
      "provenance": [],
      "authorship_tag": "ABX9TyNOk16uaNnMa+7kTUypoZhK",
      "include_colab_link": true
    },
    "kernelspec": {
      "display_name": "Python 3",
      "name": "python3"
    },
    "language_info": {
      "name": "python"
    }
  },
  "nbformat": 4,
  "nbformat_minor": 0
}